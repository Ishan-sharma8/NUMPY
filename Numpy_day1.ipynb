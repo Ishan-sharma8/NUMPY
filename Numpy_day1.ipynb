{
  "nbformat": 4,
  "nbformat_minor": 0,
  "metadata": {
    "colab": {
      "name": "Numpy day1.ipynb",
      "provenance": [],
      "collapsed_sections": [],
      "authorship_tag": "ABX9TyM+j/OZfEKEeP9SfxYRVy58",
      "include_colab_link": true
    },
    "kernelspec": {
      "name": "python3",
      "display_name": "Python 3"
    },
    "language_info": {
      "name": "python"
    }
  },
  "cells": [
    {
      "cell_type": "markdown",
      "metadata": {
        "id": "view-in-github",
        "colab_type": "text"
      },
      "source": [
        "<a href=\"https://colab.research.google.com/github/Ishan-sharma8/NUMPY/blob/main/Numpy_day1.ipynb\" target=\"_parent\"><img src=\"https://colab.research.google.com/assets/colab-badge.svg\" alt=\"Open In Colab\"/></a>"
      ]
    },
    {
      "cell_type": "code",
      "metadata": {
        "colab": {
          "base_uri": "https://localhost:8080/"
        },
        "id": "LazhzZV12Sup",
        "outputId": "6dc53177-8258-420e-bfdf-831d1d9be120"
      },
      "source": [
        "a=np.array([1,2,3])\n",
        "a\n",
        "a.ndim\n",
        "a.shape\n",
        "a.size"
      ],
      "execution_count": null,
      "outputs": [
        {
          "output_type": "execute_result",
          "data": {
            "text/plain": [
              "3"
            ]
          },
          "metadata": {
            "tags": []
          },
          "execution_count": 26
        }
      ]
    },
    {
      "cell_type": "code",
      "metadata": {
        "id": "SP3RYgo3-Afk"
      },
      "source": [
        "a=np.arange(20)\n"
      ],
      "execution_count": null,
      "outputs": []
    },
    {
      "cell_type": "code",
      "metadata": {
        "colab": {
          "base_uri": "https://localhost:8080/"
        },
        "id": "mh7B_2PZ4Y-F",
        "outputId": "7bfc4b5d-1316-484e-c83e-e76af2bc9b6e"
      },
      "source": [
        "import numpy as np\n",
        "a=np.zeros(3)\n",
        "a.ndim\n",
        "type(a)"
      ],
      "execution_count": null,
      "outputs": [
        {
          "output_type": "execute_result",
          "data": {
            "text/plain": [
              "numpy.ndarray"
            ]
          },
          "metadata": {
            "tags": []
          },
          "execution_count": 11
        }
      ]
    },
    {
      "cell_type": "code",
      "metadata": {
        "colab": {
          "base_uri": "https://localhost:8080/"
        },
        "id": "3P9UawZPAOKO",
        "outputId": "5b1e36a7-19f6-41c2-d700-410091fb84d9"
      },
      "source": [
        "import numpy as np\n",
        "a=np.arange(15).reshape(3,5)\n",
        "print(a)\n",
        "a.shape\n",
        "a.ndim\n",
        "a.dtype.name\n",
        "a.itemsize\n",
        "a.size\n"
      ],
      "execution_count": null,
      "outputs": [
        {
          "output_type": "stream",
          "text": [
            "[[ 0  1  2  3  4]\n",
            " [ 5  6  7  8  9]\n",
            " [10 11 12 13 14]]\n"
          ],
          "name": "stdout"
        },
        {
          "output_type": "execute_result",
          "data": {
            "text/plain": [
              "15"
            ]
          },
          "metadata": {
            "tags": []
          },
          "execution_count": 44
        }
      ]
    },
    {
      "cell_type": "code",
      "metadata": {
        "colab": {
          "base_uri": "https://localhost:8080/"
        },
        "id": "3VrlLGxVDsvp",
        "outputId": "d184783e-ffd0-43cd-a63b-aec86b21ca7d"
      },
      "source": [
        "a=np.array([2,3,4])\n",
        "a\n",
        "b=np.array([1.2,3.5,4.5])\n",
        "b"
      ],
      "execution_count": null,
      "outputs": [
        {
          "output_type": "execute_result",
          "data": {
            "text/plain": [
              "array([1.2, 3.5, 4.5])"
            ]
          },
          "metadata": {
            "tags": []
          },
          "execution_count": 47
        }
      ]
    },
    {
      "cell_type": "code",
      "metadata": {
        "colab": {
          "base_uri": "https://localhost:8080/"
        },
        "id": "X-D3GHD6ENF1",
        "outputId": "f64f5e0d-fd89-467c-a4d2-9025e08d0c75"
      },
      "source": [
        "b=np.array([[1.5,2.5,3.5],(4,5,6)])\n",
        "b"
      ],
      "execution_count": null,
      "outputs": [
        {
          "output_type": "execute_result",
          "data": {
            "text/plain": [
              "array([[1.5, 2.5, 3.5],\n",
              "       [4. , 5. , 6. ]])"
            ]
          },
          "metadata": {
            "tags": []
          },
          "execution_count": 52
        }
      ]
    },
    {
      "cell_type": "code",
      "metadata": {
        "colab": {
          "base_uri": "https://localhost:8080/"
        },
        "id": "WAFB6B3IFz9E",
        "outputId": "a4dbfb40-aba4-49f9-b6ca-cb1396c4bc47"
      },
      "source": [
        "c=np.array([[1,2],[3,4]],dtype=complex)\n",
        "c\n"
      ],
      "execution_count": null,
      "outputs": [
        {
          "output_type": "execute_result",
          "data": {
            "text/plain": [
              "array([[1.+0.j, 2.+0.j],\n",
              "       [3.+0.j, 4.+0.j]])"
            ]
          },
          "metadata": {
            "tags": []
          },
          "execution_count": 54
        }
      ]
    },
    {
      "cell_type": "code",
      "metadata": {
        "colab": {
          "base_uri": "https://localhost:8080/"
        },
        "id": "8CDt5jD9EGtu",
        "outputId": "5f66f1ce-1214-4ff6-831f-dd512dbfe39b"
      },
      "source": [
        "np.zeros((3,4))"
      ],
      "execution_count": null,
      "outputs": [
        {
          "output_type": "execute_result",
          "data": {
            "text/plain": [
              "array([[0., 0., 0., 0.],\n",
              "       [0., 0., 0., 0.],\n",
              "       [0., 0., 0., 0.]])"
            ]
          },
          "metadata": {
            "tags": []
          },
          "execution_count": 60
        }
      ]
    },
    {
      "cell_type": "code",
      "metadata": {
        "colab": {
          "base_uri": "https://localhost:8080/"
        },
        "id": "cqhlUgFeHXJp",
        "outputId": "3b218e2f-17d1-4c35-9064-ed0c322a94ac"
      },
      "source": [
        "np.ones((2, 3, 4),dtype=np.int16)\n"
      ],
      "execution_count": null,
      "outputs": [
        {
          "output_type": "execute_result",
          "data": {
            "text/plain": [
              "array([[[1, 1, 1, 1],\n",
              "        [1, 1, 1, 1],\n",
              "        [1, 1, 1, 1]],\n",
              "\n",
              "       [[1, 1, 1, 1],\n",
              "        [1, 1, 1, 1],\n",
              "        [1, 1, 1, 1]]], dtype=int16)"
            ]
          },
          "metadata": {
            "tags": []
          },
          "execution_count": 62
        }
      ]
    },
    {
      "cell_type": "code",
      "metadata": {
        "colab": {
          "base_uri": "https://localhost:8080/"
        },
        "id": "1ImwlON-Hirt",
        "outputId": "5f52e639-2782-4f49-d7b0-fbd4994ba616"
      },
      "source": [
        "np.empty((2,3))"
      ],
      "execution_count": null,
      "outputs": [
        {
          "output_type": "execute_result",
          "data": {
            "text/plain": [
              "array([[1.5, 2.5, 3.5],\n",
              "       [4. , 5. , 6. ]])"
            ]
          },
          "metadata": {
            "tags": []
          },
          "execution_count": 63
        }
      ]
    },
    {
      "cell_type": "code",
      "metadata": {
        "colab": {
          "base_uri": "https://localhost:8080/"
        },
        "id": "snovgXa3H2K3",
        "outputId": "f39559f8-3954-4e1d-e2d5-b17b502dbe09"
      },
      "source": [
        "np.arange(10,30,5)\n",
        "np.arange(0,2,0.3)"
      ],
      "execution_count": null,
      "outputs": [
        {
          "output_type": "execute_result",
          "data": {
            "text/plain": [
              "array([0. , 0.3, 0.6, 0.9, 1.2, 1.5, 1.8])"
            ]
          },
          "metadata": {
            "tags": []
          },
          "execution_count": 70
        }
      ]
    },
    {
      "cell_type": "code",
      "metadata": {
        "colab": {
          "base_uri": "https://localhost:8080/",
          "height": 244
        },
        "id": "gJO-l1WKJxcp",
        "outputId": "e4615fea-dc39-4845-d4f2-774505a99c9b"
      },
      "source": [
        "from numpy import pi\n",
        "y=np.linspace(0,2,9)\n",
        "#print(y)\n",
        "x=np.linspace(0,2*pi,100)\n",
        "#print(x)\n",
        "x=2\n",
        "f=np.sin(x)\n",
        "f\n"
      ],
      "execution_count": null,
      "outputs": [
        {
          "output_type": "error",
          "ename": "NameError",
          "evalue": "ignored",
          "traceback": [
            "\u001b[0;31m---------------------------------------------------------------------------\u001b[0m",
            "\u001b[0;31mNameError\u001b[0m                                 Traceback (most recent call last)",
            "\u001b[0;32m<ipython-input-10-d13be20f6e24>\u001b[0m in \u001b[0;36m<module>\u001b[0;34m()\u001b[0m\n\u001b[1;32m      1\u001b[0m \u001b[0;32mfrom\u001b[0m \u001b[0mnumpy\u001b[0m \u001b[0;32mimport\u001b[0m \u001b[0mpi\u001b[0m\u001b[0;34m\u001b[0m\u001b[0;34m\u001b[0m\u001b[0m\n\u001b[0;32m----> 2\u001b[0;31m \u001b[0my\u001b[0m\u001b[0;34m=\u001b[0m\u001b[0mnp\u001b[0m\u001b[0;34m.\u001b[0m\u001b[0mlinspace\u001b[0m\u001b[0;34m(\u001b[0m\u001b[0;36m0\u001b[0m\u001b[0;34m,\u001b[0m\u001b[0;36m2\u001b[0m\u001b[0;34m,\u001b[0m\u001b[0;36m9\u001b[0m\u001b[0;34m)\u001b[0m\u001b[0;34m\u001b[0m\u001b[0;34m\u001b[0m\u001b[0m\n\u001b[0m\u001b[1;32m      3\u001b[0m \u001b[0;31m#print(y)\u001b[0m\u001b[0;34m\u001b[0m\u001b[0;34m\u001b[0m\u001b[0;34m\u001b[0m\u001b[0m\n\u001b[1;32m      4\u001b[0m \u001b[0mx\u001b[0m\u001b[0;34m=\u001b[0m\u001b[0mnp\u001b[0m\u001b[0;34m.\u001b[0m\u001b[0mlinspace\u001b[0m\u001b[0;34m(\u001b[0m\u001b[0;36m0\u001b[0m\u001b[0;34m,\u001b[0m\u001b[0;36m2\u001b[0m\u001b[0;34m*\u001b[0m\u001b[0mpi\u001b[0m\u001b[0;34m,\u001b[0m\u001b[0;36m100\u001b[0m\u001b[0;34m)\u001b[0m\u001b[0;34m\u001b[0m\u001b[0;34m\u001b[0m\u001b[0m\n\u001b[1;32m      5\u001b[0m \u001b[0;31m#print(x)\u001b[0m\u001b[0;34m\u001b[0m\u001b[0;34m\u001b[0m\u001b[0;34m\u001b[0m\u001b[0m\n",
            "\u001b[0;31mNameError\u001b[0m: name 'np' is not defined"
          ]
        }
      ]
    },
    {
      "cell_type": "code",
      "metadata": {
        "id": "WIW-1gVtLYUd",
        "colab": {
          "base_uri": "https://localhost:8080/"
        },
        "outputId": "add0e7b8-13e3-4e4a-d8c6-5e2648c32ee2"
      },
      "source": [
        "a=np.arange(6)\n",
        "print(a)\n",
        "b=np.arange(12).reshape(4,3)   #2d array\n",
        "print(b)\n",
        "c= np.arange(24).reshape(2,3,4)  # 3d array\n",
        "print(c)\n",
        " \n",
        " \n"
      ],
      "execution_count": null,
      "outputs": [
        {
          "output_type": "stream",
          "text": [
            "[0 1 2 3 4 5]\n",
            "[[ 0  1  2]\n",
            " [ 3  4  5]\n",
            " [ 6  7  8]\n",
            " [ 9 10 11]]\n",
            "[[[ 0  1  2  3]\n",
            "  [ 4  5  6  7]\n",
            "  [ 8  9 10 11]]\n",
            "\n",
            " [[12 13 14 15]\n",
            "  [16 17 18 19]\n",
            "  [20 21 22 23]]]\n"
          ],
          "name": "stdout"
        }
      ]
    },
    {
      "cell_type": "code",
      "metadata": {
        "colab": {
          "base_uri": "https://localhost:8080/"
        },
        "id": "RjTvGnzYVvCj",
        "outputId": "8ae9b692-0c39-40bf-d7ae-a998b76252fb"
      },
      "source": [
        "print(np.arange(10000))\n",
        "print(np.arange(10000).reshape(100,100))"
      ],
      "execution_count": null,
      "outputs": [
        {
          "output_type": "stream",
          "text": [
            "[   0    1    2 ... 9997 9998 9999]\n",
            "[[   0    1    2 ...   97   98   99]\n",
            " [ 100  101  102 ...  197  198  199]\n",
            " [ 200  201  202 ...  297  298  299]\n",
            " ...\n",
            " [9700 9701 9702 ... 9797 9798 9799]\n",
            " [9800 9801 9802 ... 9897 9898 9899]\n",
            " [9900 9901 9902 ... 9997 9998 9999]]\n"
          ],
          "name": "stdout"
        }
      ]
    },
    {
      "cell_type": "markdown",
      "metadata": {
        "id": "7GtCkZlZWMFK"
      },
      "source": [
        "Basic operations"
      ]
    },
    {
      "cell_type": "code",
      "metadata": {
        "colab": {
          "base_uri": "https://localhost:8080/"
        },
        "id": "fWg3U6IUWPst",
        "outputId": "454f6363-f05e-4dbe-99d9-be1d35e2f34d"
      },
      "source": [
        "a=np.array([20,30,40,50])\n",
        "print(a)\n",
        "b=np.arange(4)\n",
        "print(b)\n",
        "c=a-b\n",
        "print(c)\n",
        "print(b**2)\n",
        "10 * np.sin(a)\n",
        "a<35\n",
        "\n"
      ],
      "execution_count": null,
      "outputs": [
        {
          "output_type": "stream",
          "text": [
            "[20 30 40 50]\n",
            "[0 1 2 3]\n",
            "[20 29 38 47]\n",
            "[0 1 4 9]\n"
          ],
          "name": "stdout"
        },
        {
          "output_type": "execute_result",
          "data": {
            "text/plain": [
              "array([ True,  True, False, False])"
            ]
          },
          "metadata": {
            "tags": []
          },
          "execution_count": 125
        }
      ]
    },
    {
      "cell_type": "code",
      "metadata": {
        "colab": {
          "base_uri": "https://localhost:8080/"
        },
        "id": "-yFbYNMeZN92",
        "outputId": "1ff1f3ef-4b3b-45a9-a332-545a629d6763"
      },
      "source": [
        "A=np.array([[1,1],\n",
        "            [0,1 ]])\n",
        "B=np.array([[2,0],\n",
        "            [3,4]])#case matters\n",
        "A*B\n",
        "A@B\n",
        "A.dot(B)\n",
        "             \n"
      ],
      "execution_count": null,
      "outputs": [
        {
          "output_type": "execute_result",
          "data": {
            "text/plain": [
              "array([[5, 4],\n",
              "       [3, 4]])"
            ]
          },
          "metadata": {
            "tags": []
          },
          "execution_count": 129
        }
      ]
    },
    {
      "cell_type": "code",
      "metadata": {
        "colab": {
          "base_uri": "https://localhost:8080/",
          "height": 280
        },
        "id": "CQjgLW-yaXo0",
        "outputId": "8e3c84be-0345-4b73-f8f9-26b64119d63d"
      },
      "source": [
        "rg=np.random.default_rng(1)\n",
        "a=np.ones((2,3),dtype=int)\n",
        "b=rg.random((2,3))\n",
        "a*=3\n",
        "print(a)\n",
        "b += a\n",
        "print(b)\n",
        "a += b\n"
      ],
      "execution_count": null,
      "outputs": [
        {
          "output_type": "stream",
          "text": [
            "[[3 3 3]\n",
            " [3 3 3]]\n",
            "[[3.51182162 3.9504637  3.14415961]\n",
            " [3.94864945 3.31183145 3.42332645]]\n"
          ],
          "name": "stdout"
        },
        {
          "output_type": "error",
          "ename": "UFuncTypeError",
          "evalue": "ignored",
          "traceback": [
            "\u001b[0;31m---------------------------------------------------------------------------\u001b[0m",
            "\u001b[0;31mUFuncTypeError\u001b[0m                            Traceback (most recent call last)",
            "\u001b[0;32m<ipython-input-56-dc21119eaaae>\u001b[0m in \u001b[0;36m<module>\u001b[0;34m()\u001b[0m\n\u001b[1;32m      6\u001b[0m \u001b[0mb\u001b[0m \u001b[0;34m+=\u001b[0m \u001b[0ma\u001b[0m\u001b[0;34m\u001b[0m\u001b[0;34m\u001b[0m\u001b[0m\n\u001b[1;32m      7\u001b[0m \u001b[0mprint\u001b[0m\u001b[0;34m(\u001b[0m\u001b[0mb\u001b[0m\u001b[0;34m)\u001b[0m\u001b[0;34m\u001b[0m\u001b[0;34m\u001b[0m\u001b[0m\n\u001b[0;32m----> 8\u001b[0;31m \u001b[0ma\u001b[0m \u001b[0;34m+=\u001b[0m \u001b[0mb\u001b[0m\u001b[0;34m\u001b[0m\u001b[0;34m\u001b[0m\u001b[0m\n\u001b[0m",
            "\u001b[0;31mUFuncTypeError\u001b[0m: Cannot cast ufunc 'add' output from dtype('float64') to dtype('int64') with casting rule 'same_kind'"
          ]
        }
      ]
    },
    {
      "cell_type": "code",
      "metadata": {
        "colab": {
          "base_uri": "https://localhost:8080/"
        },
        "id": "XUKoSTDjcyaq",
        "outputId": "69f8a1a8-011a-4c01-bbc3-81e66cc27ce9"
      },
      "source": [
        "a=np.ones(3,dtype=np.int32)\n",
        "b=np.linspace(0,pi,3)\n",
        "print(a)\n",
        "print(b)\n",
        "c=a+b\n",
        "c\n",
        "c.dtype.name\n",
        "d = np.exp(c * 1j)\n",
        "d\n",
        "\n"
      ],
      "execution_count": null,
      "outputs": [
        {
          "output_type": "stream",
          "text": [
            "[1 1 1]\n",
            "[0.         1.57079633 3.14159265]\n"
          ],
          "name": "stdout"
        },
        {
          "output_type": "execute_result",
          "data": {
            "text/plain": [
              "array([ 0.54030231+0.84147098j, -0.84147098+0.54030231j,\n",
              "       -0.54030231-0.84147098j])"
            ]
          },
          "metadata": {
            "tags": []
          },
          "execution_count": 146
        }
      ]
    },
    {
      "cell_type": "code",
      "metadata": {
        "colab": {
          "base_uri": "https://localhost:8080/"
        },
        "id": "PkixHugWgM0b",
        "outputId": "a4c64dd7-8b30-4e7c-a261-bffd9285bc42"
      },
      "source": [
        "a=rg.random((2,3))\n",
        "print(a)\n",
        "print(a.sum())\n",
        "print(a.min())\n",
        "print(a.max())"
      ],
      "execution_count": null,
      "outputs": [
        {
          "output_type": "stream",
          "text": [
            "[[0.27404839 0.00709183 0.6457209 ]\n",
            " [0.71990938 0.83556922 0.28187783]]\n",
            "2.7642175401653413\n",
            "0.007091828603166261\n",
            "0.8355692165002742\n"
          ],
          "name": "stdout"
        }
      ]
    },
    {
      "cell_type": "code",
      "metadata": {
        "colab": {
          "base_uri": "https://localhost:8080/"
        },
        "id": "h85QCprUhGHH",
        "outputId": "77391c77-f026-4003-c0e5-17a6838ec940"
      },
      "source": [
        "b=np.arange(12).reshape(3,4)\n",
        "print(b)\n",
        "b.sum(axis=0)\n",
        "b.min(axis=0)\n",
        "b.cumsum(axis=1)\n"
      ],
      "execution_count": null,
      "outputs": [
        {
          "output_type": "stream",
          "text": [
            "[[ 0  1  2  3]\n",
            " [ 4  5  6  7]\n",
            " [ 8  9 10 11]]\n"
          ],
          "name": "stdout"
        },
        {
          "output_type": "execute_result",
          "data": {
            "text/plain": [
              "array([[ 0,  1,  3,  6],\n",
              "       [ 4,  9, 15, 22],\n",
              "       [ 8, 17, 27, 38]])"
            ]
          },
          "metadata": {
            "tags": []
          },
          "execution_count": 163
        }
      ]
    },
    {
      "cell_type": "markdown",
      "metadata": {
        "id": "cWmNf6Lli2cs"
      },
      "source": [
        "Universal functions"
      ]
    },
    {
      "cell_type": "code",
      "metadata": {
        "colab": {
          "base_uri": "https://localhost:8080/"
        },
        "id": "r7yxh05kjCfE",
        "outputId": "61c47486-fbfd-4b4d-925c-263f5a3b1c7c"
      },
      "source": [
        "b=np.arange(3)\n",
        "b\n",
        "np.exp(b)\n",
        "np.sqrt(b)\n",
        "c=np.array([2.,-1.,4.])\n",
        "np.add(b, c)"
      ],
      "execution_count": null,
      "outputs": [
        {
          "output_type": "execute_result",
          "data": {
            "text/plain": [
              "array([2., 0., 6.])"
            ]
          },
          "metadata": {
            "tags": []
          },
          "execution_count": 174
        }
      ]
    },
    {
      "cell_type": "markdown",
      "metadata": {
        "id": "qCa0vZ-PmE7r"
      },
      "source": [
        "Indexing,slicing and iterating"
      ]
    },
    {
      "cell_type": "code",
      "metadata": {
        "colab": {
          "base_uri": "https://localhost:8080/"
        },
        "id": "GAALQ1kqmKsg",
        "outputId": "c2249eb5-d161-4e35-e712-11df43bd7eda"
      },
      "source": [
        "a=np.arange(10)**3\n",
        "print(a)\n",
        "#print(a[2])\n",
        "print(a[2:5])\n",
        "a[:6:2] = 1000\n",
        "a[::-1]\n",
        "for i in a:\n",
        "  print(i**(1 / 3))\n"
      ],
      "execution_count": null,
      "outputs": [
        {
          "output_type": "stream",
          "text": [
            "[  0   1   8  27  64 125 216 343 512 729]\n",
            "[ 8 27 64]\n",
            "9.999999999999998\n",
            "1.0\n",
            "9.999999999999998\n",
            "3.0\n",
            "9.999999999999998\n",
            "4.999999999999999\n",
            "5.999999999999999\n",
            "6.999999999999999\n",
            "7.999999999999999\n",
            "8.999999999999998\n"
          ],
          "name": "stdout"
        }
      ]
    },
    {
      "cell_type": "code",
      "metadata": {
        "colab": {
          "base_uri": "https://localhost:8080/"
        },
        "id": "9QeT_LoQRDjr",
        "outputId": "66de7c54-efc2-4fd4-f4e8-09dbaaedba02"
      },
      "source": [
        "def f(x, y):\n",
        "    return 10 * x + y\n",
        "b = np.fromfunction(f, (5, 4), dtype=int)\n",
        "print(b)\n",
        "b[2, 3]\n",
        "b[0:5, 1]\n",
        "b[-1] \n"
      ],
      "execution_count": null,
      "outputs": [
        {
          "output_type": "stream",
          "text": [
            "[[ 0  1  2  3]\n",
            " [10 11 12 13]\n",
            " [20 21 22 23]\n",
            " [30 31 32 33]\n",
            " [40 41 42 43]]\n"
          ],
          "name": "stdout"
        },
        {
          "output_type": "execute_result",
          "data": {
            "text/plain": [
              "array([40, 41, 42, 43])"
            ]
          },
          "metadata": {
            "tags": []
          },
          "execution_count": 17
        }
      ]
    },
    {
      "cell_type": "code",
      "metadata": {
        "colab": {
          "base_uri": "https://localhost:8080/"
        },
        "id": "slt53w0OS_T6",
        "outputId": "7a3ddff7-774c-4b34-fce7-00b6d65adea0"
      },
      "source": [
        "c = np.array([[[  0,  1,  2],  # a 3D array (two stacked 2D arrays)\n",
        "                [ 10, 12, 13]],\n",
        "               [[100, 101, 102],\n",
        "                [110, 112, 113]]])\n",
        "c.shape\n",
        "for row in b:\n",
        "    print(row)\n",
        "\n",
        "for element in b.flat:\n",
        "   print(element)"
      ],
      "execution_count": null,
      "outputs": [
        {
          "output_type": "stream",
          "text": [
            "[0 1 2 3]\n",
            "[10 11 12 13]\n",
            "[20 21 22 23]\n",
            "[30 31 32 33]\n",
            "[40 41 42 43]\n",
            "0\n",
            "1\n",
            "2\n",
            "3\n",
            "10\n",
            "11\n",
            "12\n",
            "13\n",
            "20\n",
            "21\n",
            "22\n",
            "23\n",
            "30\n",
            "31\n",
            "32\n",
            "33\n",
            "40\n",
            "41\n",
            "42\n",
            "43\n"
          ],
          "name": "stdout"
        }
      ]
    },
    {
      "cell_type": "markdown",
      "metadata": {
        "id": "i5_vKUN8UKei"
      },
      "source": [
        "Shape manipulation"
      ]
    },
    {
      "cell_type": "code",
      "metadata": {
        "colab": {
          "base_uri": "https://localhost:8080/"
        },
        "id": "GZcSX2bOUNNY",
        "outputId": "42f97d3f-ae7a-4634-ba5b-34777221d28a"
      },
      "source": [
        "a = np.floor(10 * rg.random((3, 4)))\n",
        "print(a)\n",
        "a.shape\n",
        "a.ravel()\n",
        "a.reshape(6, 2)\n",
        "a.T\n",
        "a.T.shape\n",
        "\n"
      ],
      "execution_count": null,
      "outputs": [
        {
          "output_type": "stream",
          "text": [
            "[[2. 6. 8. 9.]\n",
            " [1. 4. 8. 4.]\n",
            " [5. 0. 6. 9.]]\n"
          ],
          "name": "stdout"
        },
        {
          "output_type": "execute_result",
          "data": {
            "text/plain": [
              "(4, 3)"
            ]
          },
          "metadata": {
            "tags": []
          },
          "execution_count": 34
        }
      ]
    },
    {
      "cell_type": "markdown",
      "metadata": {
        "id": "s_-GKHD-Vs_x"
      },
      "source": [
        "Stacking together different arrays"
      ]
    },
    {
      "cell_type": "code",
      "metadata": {
        "colab": {
          "base_uri": "https://localhost:8080/"
        },
        "id": "FoFc80EEVvp6",
        "outputId": "acc0c823-b589-4d7f-8e5b-0477ee3a594e"
      },
      "source": [
        " a = np.floor(10 * rg.random((2, 2)))\n",
        "print(a)\n",
        "b = np.floor(10 * rg.random((2, 2)))\n",
        " print(b)\n",
        " np.vstack((a, b))\n",
        " np.hstack((a, b))"
      ],
      "execution_count": null,
      "outputs": [
        {
          "output_type": "stream",
          "text": [
            "[[8. 4.]\n",
            " [5. 0.]]\n",
            "[[7. 5.]\n",
            " [3. 7.]]\n"
          ],
          "name": "stdout"
        },
        {
          "output_type": "execute_result",
          "data": {
            "text/plain": [
              "array([[8., 4., 7., 5.],\n",
              "       [5., 0., 3., 7.]])"
            ]
          },
          "metadata": {
            "tags": []
          },
          "execution_count": 57
        }
      ]
    },
    {
      "cell_type": "code",
      "metadata": {
        "id": "SU8dPW6H_4KM"
      },
      "source": [
        ""
      ],
      "execution_count": null,
      "outputs": []
    },
    {
      "cell_type": "code",
      "metadata": {
        "colab": {
          "base_uri": "https://localhost:8080/"
        },
        "id": "GJiDUWIlXfiR",
        "outputId": "46207a36-1b0f-4b54-a328-6b2a935ef70b"
      },
      "source": [
        "from numpy import newaxis\n",
        ">>> np.column_stack((a, b))  # with 2D arrays\n",
        ">>> a = np.array([4., 2.])\n",
        ">>> b = np.array([3., 8.])\n",
        "b\n",
        "np.column_stack((a, b))  \n",
        "np.hstack((a, b))\n",
        "a[:, newaxis]  # view `a` as a 2D column vector\n",
        "np.column_stack((a[:, newaxis], b[:, newaxis]))\n",
        "np.hstack((a[:, newaxis], b[:, newaxis]))  # the result is the same"
      ],
      "execution_count": null,
      "outputs": [
        {
          "output_type": "execute_result",
          "data": {
            "text/plain": [
              "array([[4., 3.],\n",
              "       [2., 8.]])"
            ]
          },
          "metadata": {
            "tags": []
          },
          "execution_count": 50
        }
      ]
    },
    {
      "cell_type": "code",
      "metadata": {
        "colab": {
          "base_uri": "https://localhost:8080/"
        },
        "id": "AchJMTJtZIT0",
        "outputId": "b32713e2-12e6-4fa6-ee90-bb6da181ec33"
      },
      "source": [
        ">>> np.column_stack is np.hstack\n",
        ">>> np.row_stack is np.vstack\n"
      ],
      "execution_count": null,
      "outputs": [
        {
          "output_type": "execute_result",
          "data": {
            "text/plain": [
              "False"
            ]
          },
          "metadata": {
            "tags": []
          },
          "execution_count": 54
        }
      ]
    },
    {
      "cell_type": "markdown",
      "metadata": {
        "id": "OEuQbgKyscju"
      },
      "source": [
        "Splitting one array into several smaller ones¶\n"
      ]
    },
    {
      "cell_type": "code",
      "metadata": {
        "colab": {
          "base_uri": "https://localhost:8080/"
        },
        "id": "8MBP_i0UsHxB",
        "outputId": "76d5e198-4702-497e-8bff-81a71269ce71"
      },
      "source": [
        ">>> a = np.floor(10 * rg.random((2, 12)))\n",
        ">>> a\n",
        ">>> np.hsplit(a, 3)\n"
      ],
      "execution_count": null,
      "outputs": [
        {
          "output_type": "execute_result",
          "data": {
            "text/plain": [
              "[array([[4., 0., 6., 8.],\n",
              "        [6., 7., 1., 8.]]), array([[5., 2., 8., 5.],\n",
              "        [1., 0., 8., 8.]]), array([[5., 7., 1., 8.],\n",
              "        [8., 4., 2., 0.]])]"
            ]
          },
          "metadata": {
            "tags": []
          },
          "execution_count": 59
        }
      ]
    },
    {
      "cell_type": "markdown",
      "metadata": {
        "id": "xSbr6YIRtr7g"
      },
      "source": [
        "**COPIES AND VIEWS**"
      ]
    },
    {
      "cell_type": "code",
      "metadata": {
        "colab": {
          "base_uri": "https://localhost:8080/"
        },
        "id": "f9G--b8Rtzaj",
        "outputId": "c8d59b3c-4722-496c-80b0-e68b1ebbb21f"
      },
      "source": [
        "a = np.array([[ 0,  1,  2,  3],\n",
        "...               [ 4,  5,  6,  7],\n",
        "...               [ 8,  9, 10, 11]])\n",
        "b = a            # no new object is created,no copy at all\n",
        "b is a  "
      ],
      "execution_count": null,
      "outputs": [
        {
          "output_type": "execute_result",
          "data": {
            "text/plain": [
              "True"
            ]
          },
          "metadata": {
            "tags": []
          },
          "execution_count": 64
        }
      ]
    },
    {
      "cell_type": "code",
      "metadata": {
        "colab": {
          "base_uri": "https://localhost:8080/"
        },
        "id": "H2aSHi4NuDXg",
        "outputId": "a82e1311-5863-495b-f018-1fc3252eea85"
      },
      "source": [
        " def f(x):\n",
        "     print(id(x))\n",
        "\n",
        " id(a)"
      ],
      "execution_count": null,
      "outputs": [
        {
          "output_type": "execute_result",
          "data": {
            "text/plain": [
              "140634191653184"
            ]
          },
          "metadata": {
            "tags": []
          },
          "execution_count": 87
        }
      ]
    },
    {
      "cell_type": "markdown",
      "metadata": {
        "id": "PJjTN5NhwK5u"
      },
      "source": [
        "View or Shallow Copy\n"
      ]
    },
    {
      "cell_type": "code",
      "metadata": {
        "colab": {
          "base_uri": "https://localhost:8080/",
          "height": 244
        },
        "id": "QiulPNFhwT8f",
        "outputId": "d83c8850-0ba5-4438-87b8-e507d3b147b1"
      },
      "source": [
        "c = a.view()\n",
        "c is a\n",
        "c.base is a\n",
        "c.flags.owndata\n",
        "\n",
        "#>>> c = c.reshape((2, 6))  # a's shape doesn't change\n",
        "#>>> a.shape\n",
        "c[0, 4] = 1234 \n",
        "a \n",
        "\n",
        "    "
      ],
      "execution_count": null,
      "outputs": [
        {
          "output_type": "error",
          "ename": "IndexError",
          "evalue": "ignored",
          "traceback": [
            "\u001b[0;31m---------------------------------------------------------------------------\u001b[0m",
            "\u001b[0;31mIndexError\u001b[0m                                Traceback (most recent call last)",
            "\u001b[0;32m<ipython-input-101-3fbee45c0151>\u001b[0m in \u001b[0;36m<module>\u001b[0;34m()\u001b[0m\n\u001b[1;32m      6\u001b[0m \u001b[0;31m#>>> c = c.reshape((2, 6))  # a's shape doesn't change\u001b[0m\u001b[0;34m\u001b[0m\u001b[0;34m\u001b[0m\u001b[0;34m\u001b[0m\u001b[0m\n\u001b[1;32m      7\u001b[0m \u001b[0;31m#>>> a.shape\u001b[0m\u001b[0;34m\u001b[0m\u001b[0;34m\u001b[0m\u001b[0;34m\u001b[0m\u001b[0m\n\u001b[0;32m----> 8\u001b[0;31m \u001b[0mc\u001b[0m\u001b[0;34m[\u001b[0m\u001b[0;36m0\u001b[0m\u001b[0;34m,\u001b[0m \u001b[0;36m4\u001b[0m\u001b[0;34m]\u001b[0m \u001b[0;34m=\u001b[0m \u001b[0;36m1234\u001b[0m\u001b[0;34m\u001b[0m\u001b[0;34m\u001b[0m\u001b[0m\n\u001b[0m\u001b[1;32m      9\u001b[0m \u001b[0ma\u001b[0m\u001b[0;34m\u001b[0m\u001b[0;34m\u001b[0m\u001b[0m\n\u001b[1;32m     10\u001b[0m \u001b[0;34m\u001b[0m\u001b[0m\n",
            "\u001b[0;31mIndexError\u001b[0m: too many indices for array: array is 1-dimensional, but 2 were indexed"
          ]
        }
      ]
    },
    {
      "cell_type": "code",
      "metadata": {
        "id": "cKmyiZ6hxSFl"
      },
      "source": [
        "s = a[:, 1:3]\n",
        ">>> s[:] = 10  # s[:] is a view of s. Note the difference between s = 10 and s[:] = 10\n",
        ">>> a"
      ],
      "execution_count": null,
      "outputs": []
    },
    {
      "cell_type": "code",
      "metadata": {
        "colab": {
          "base_uri": "https://localhost:8080/"
        },
        "id": "mr0061cMybls",
        "outputId": "e0f9a1f1-ce48-478c-e887-a66289927bad"
      },
      "source": [
        "a = np.array([[ 0,  1,  2,  3],\n",
        "...               [ 4,  5,  6,  7],\n",
        "...               [ 8,  9, 10, 11]])\n",
        "d = a.copy()  # a new array object with new data is created\n",
        ">>> d is a\n",
        "d[0, 0] = 9999\n",
        "a"
      ],
      "execution_count": null,
      "outputs": [
        {
          "output_type": "execute_result",
          "data": {
            "text/plain": [
              "array([[ 0,  1,  2,  3],\n",
              "       [ 4,  5,  6,  7],\n",
              "       [ 8,  9, 10, 11]])"
            ]
          },
          "metadata": {
            "tags": []
          },
          "execution_count": 106
        }
      ]
    },
    {
      "cell_type": "code",
      "metadata": {
        "colab": {
          "base_uri": "https://localhost:8080/"
        },
        "id": "s4gpDyEZ3BOh",
        "outputId": "615a1fe4-b308-4480-9242-898b0f6a854e"
      },
      "source": [
        "a = np.arange(12)**2  # the first 12 square numbers\n",
        ">>> i = np.array([1, 1, 3, 8, 5])\n",
        "print(i)\n",
        "a[i] \n"
      ],
      "execution_count": null,
      "outputs": [
        {
          "output_type": "stream",
          "text": [
            "[1 1 3 8 5]\n"
          ],
          "name": "stdout"
        },
        {
          "output_type": "execute_result",
          "data": {
            "text/plain": [
              "array([ 1,  1,  9, 64, 25])"
            ]
          },
          "metadata": {
            "tags": []
          },
          "execution_count": 112
        }
      ]
    },
    {
      "cell_type": "code",
      "metadata": {
        "id": "m-X057_W3VPw"
      },
      "source": [
        " palette = np.array([[0, 0, 0],         # black\n",
        "...                     [255, 0, 0],       # red\n",
        "...                     [0, 255, 0],       # green\n",
        "...                     [0, 0, 255],       # blue\n",
        "...                     [255, 255, 255]])  # white\n",
        ">>> image = np.array([[0, 1, 2, 0],  # each value corresponds to a color in the palette\n",
        "...                   [0, 3, 4, 0]])\n",
        ">>> palette[image]  # the (2, 4, 3) color image\n",
        "array([[[  0,   0,   0],\n",
        "        [255,   0,   0],\n",
        "        [  0, 255,   0],\n",
        "        [  0,   0,   0]],\n",
        "\n",
        "       [[  0,   0,   0],\n",
        "        [  0,   0, 255],\n",
        "        [255, 255, 255],\n",
        "        [  0,   0,   0]]])"
      ],
      "execution_count": null,
      "outputs": []
    },
    {
      "cell_type": "markdown",
      "metadata": {
        "id": "5VcMCSGh6MQ1"
      },
      "source": [
        "Indexing with Boolean Arrays\n"
      ]
    },
    {
      "cell_type": "code",
      "metadata": {
        "colab": {
          "base_uri": "https://localhost:8080/",
          "height": 287
        },
        "id": "_Y0jpZmN6Nig",
        "outputId": "dc0b3dcf-6960-4ae4-d4e2-19fe43a861cd"
      },
      "source": [
        "import numpy as np\n",
        "import matplotlib.pyplot as plt\n",
        "def mandelbrot(h, w, maxit=20, r=2):\n",
        "    \"\"\"Returns an image of the Mandelbrot fractal of size (h,w).\"\"\"\n",
        "    x = np.linspace(-2.5, 1.5, 4*h+1)\n",
        "    y = np.linspace(-1.5, 1.5, 3*w+1)\n",
        "    A, B = np.meshgrid(x, y)\n",
        "    C = A + B*1j\n",
        "    z = np.zeros_like(C)\n",
        "    divtime = maxit + np.zeros(z.shape, dtype=int)\n",
        "\n",
        "    for i in range(maxit):\n",
        "        z = z**2 + C\n",
        "        diverge = abs(z) > r                    # who is diverging\n",
        "        div_now = diverge & (divtime == maxit)  # who is diverging now\n",
        "        divtime[div_now] = i                    # note when\n",
        "        z[diverge] = r                          # avoid diverging too much\n",
        "\n",
        "    return divtime\n",
        "plt.imshow(mandelbrot(400, 400))"
      ],
      "execution_count": null,
      "outputs": [
        {
          "output_type": "execute_result",
          "data": {
            "text/plain": [
              "<matplotlib.image.AxesImage at 0x7fe7f30a9850>"
            ]
          },
          "metadata": {
            "tags": []
          },
          "execution_count": 116
        },
        {
          "output_type": "display_data",
          "data": {
            "image/png": "[encoded data removed]",
            "text/plain": [
              "<Figure size 432x288 with 1 Axes>"
            ]
          },
          "metadata": {
            "tags": [],
            "needs_background": "light"
          }
        }
      ]
    },
    {
      "cell_type": "code",
      "metadata": {
        "colab": {
          "base_uri": "https://localhost:8080/",
          "height": 283
        },
        "id": "-NP91lNd6LPo",
        "outputId": "3b531818-36ad-46ae-ed20-764b8482e598"
      },
      "source": [
        "plt.plot(a)"
      ],
      "execution_count": null,
      "outputs": [
        {
          "output_type": "execute_result",
          "data": {
            "text/plain": [
              "[<matplotlib.lines.Line2D at 0x7fe7f3030790>]"
            ]
          },
          "metadata": {
            "tags": []
          },
          "execution_count": 118
        },
        {
          "output_type": "display_data",
          "data": {
            "image/png": "[encoded data removed]",
            "text/plain": [
              "<Figure size 432x288 with 1 Axes>"
            ]
          },
          "metadata": {
            "tags": [],
            "needs_background": "light"
          }
        }
      ]
    },
    {
      "cell_type": "code",
      "metadata": {
        "colab": {
          "base_uri": "https://localhost:8080/",
          "height": 282
        },
        "id": "dLsfFbzx9FyO",
        "outputId": "9b920677-5f20-49ba-8639-5d48fc227395"
      },
      "source": [
        ">>> x = np.linspace(0, 5, 20)\n",
        ">>> y = np.linspace(0, 10, 20)\n",
        ">>> plt.plot(x, y, 'orange') # line\n",
        "plt.plot(x, y, 'o') "
      ],
      "execution_count": null,
      "outputs": [
        {
          "output_type": "execute_result",
          "data": {
            "text/plain": [
              "[<matplotlib.lines.Line2D at 0x7fe7f23e61d0>]"
            ]
          },
          "metadata": {
            "tags": []
          },
          "execution_count": 129
        },
        {
          "output_type": "display_data",
          "data": {
            "image/png": "[encoded data removed]",
            "text/plain": [
              "<Figure size 432x288 with 1 Axes>"
            ]
          },
          "metadata": {
            "tags": [],
            "needs_background": "light"
          }
        }
      ]
    },
    {
      "cell_type": "code",
      "metadata": {
        "colab": {
          "base_uri": "https://localhost:8080/",
          "height": 282
        },
        "id": "W1RGI_lv_fI-",
        "outputId": "a3619262-da4a-4618-c858-5f5d6d848894"
      },
      "source": [
        "import numpy as np\n",
        "rg = np.random.default_rng(1)\n",
        "import matplotlib.pyplot as plt\n",
        "# Build a vector of 10000 normal deviates with variance 0.5^2 and mean 2\n",
        "mu, sigma = 2, 0.5\n",
        "v = rg.normal(mu, sigma, 10000)\n",
        "# Plot a normalized histogram with 50 bins\n",
        "plt.hist(v, bins=50, density=True)       # matplotlib version (plot)\n",
        "# Compute the histogram with numpy and then plot it\n",
        "(n, bins) = np.histogram(v, bins=50, density=True)  # NumPy version (no plot)\n",
        "plt.plot(.5 * (bins[1:] + bins[:-1]), n)"
      ],
      "execution_count": null,
      "outputs": [
        {
          "output_type": "execute_result",
          "data": {
            "text/plain": [
              "[<matplotlib.lines.Line2D at 0x7fe7f26afd10>]"
            ]
          },
          "metadata": {
            "tags": []
          },
          "execution_count": 131
        },
        {
          "output_type": "display_data",
          "data": {
            "image/png": "[encoded data removed]",
            "text/plain": [
              "<Figure size 432x288 with 1 Axes>"
            ]
          },
          "metadata": {
            "tags": [],
            "needs_background": "light"
          }
        }
      ]
    }
  ]
}