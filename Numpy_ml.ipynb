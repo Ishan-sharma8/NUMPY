{
  "nbformat": 4,
  "nbformat_minor": 0,
  "metadata": {
    "colab": {
      "name": "Numpy_ml.ipynb",
      "provenance": [],
      "collapsed_sections": [],
      "authorship_tag": "ABX9TyMwNd3mBtr+jsqTtlH/HWIN",
      "include_colab_link": true
    },
    "kernelspec": {
      "name": "python3",
      "display_name": "Python 3"
    },
    "language_info": {
      "name": "python"
    }
  },
  "cells": [
    {
      "cell_type": "markdown",
      "metadata": {
        "id": "view-in-github",
        "colab_type": "text"
      },
      "source": [
        "<a href=\"https://colab.research.google.com/github/Ishan-sharma8/NUMPY/blob/main/Numpy_ml.ipynb\" target=\"_parent\"><img src=\"https://colab.research.google.com/assets/colab-badge.svg\" alt=\"Open In Colab\"/></a>"
      ]
    },
    {
      "cell_type": "code",
      "metadata": {
        "colab": {
          "base_uri": "https://localhost:8080/"
        },
        "id": "DraqdSGNaYzC",
        "outputId": "d72691e2-d133-41a0-f970-34b039b7a813"
      },
      "source": [
        "import numpy as np\n",
        "\n",
        "a=[1,2,3]\n",
        "b=np.array(a)\n",
        "print(b)\n",
        "print(type(b)) \n"
      ],
      "execution_count": 2,
      "outputs": [
        {
          "output_type": "stream",
          "text": [
            "[1 2 3]\n",
            "<class 'numpy.ndarray'>\n"
          ],
          "name": "stdout"
        }
      ]
    },
    {
      "cell_type": "code",
      "metadata": {
        "colab": {
          "base_uri": "https://localhost:8080/"
        },
        "id": "jfXGlfZgbKtj",
        "outputId": "440bacb3-19ec-42d9-da40-1d416055aa12"
      },
      "source": [
        "c=[1,2,3,'5','a',4.5]  #adding few strings ;in a 3 integers,2 strings and 1 float\n",
        "d=np.array(c)# in d every element is of strings\n",
        "print(d)"
      ],
      "execution_count": null,
      "outputs": [
        {
          "output_type": "stream",
          "text": [
            "['1' '2' '3' '5' 'a' '4.5']\n"
          ],
          "name": "stdout"
        }
      ]
    },
    {
      "cell_type": "code",
      "metadata": {
        "colab": {
          "base_uri": "https://localhost:8080/"
        },
        "id": "SMk8ih1xB-dz",
        "outputId": "cba6aafe-7fee-466b-dedc-6d203027564d"
      },
      "source": [
        "c=[1,2,3,'5',4.5]\n",
        "d=np.array(c,dtype=int)\n",
        "e=np.array(c,dtype=float)\n",
        "print(d)\n",
        "print(e)\n"
      ],
      "execution_count": 5,
      "outputs": [
        {
          "output_type": "stream",
          "text": [
            "[1 2 3 5 4]\n",
            "[1.  2.  3.  5.  4.5]\n"
          ],
          "name": "stdout"
        }
      ]
    },
    {
      "cell_type": "code",
      "metadata": {
        "colab": {
          "base_uri": "https://localhost:8080/"
        },
        "id": "QCbCnHF0Ce1z",
        "outputId": "bf5c3804-e6ef-4337-8ef9-aae759302ae5"
      },
      "source": [
        "f=np.array(c  *3)\n",
        "f\n",
        "print(f)"
      ],
      "execution_count": 9,
      "outputs": [
        {
          "output_type": "stream",
          "text": [
            "['1' '2' '3' '5' '4.5' '1' '2' '3' '5' '4.5' '1' '2' '3' '5' '4.5']\n"
          ],
          "name": "stdout"
        }
      ]
    },
    {
      "cell_type": "code",
      "metadata": {
        "colab": {
          "base_uri": "https://localhost:8080/"
        },
        "id": "ucCnOMUIDEzB",
        "outputId": "83e06e5a-8a2e-4300-8c00-0f74c403df61"
      },
      "source": [
        "w=np.ones(3,dtype=int)\n",
        "x=np.zeros(3)\n",
        "y=np.full(3,4)\n",
        "z=np.empty(3)\n",
        "print(w)\n",
        "print(x)\n",
        "print(y)\n",
        "print(z)"
      ],
      "execution_count": 29,
      "outputs": [
        {
          "output_type": "stream",
          "text": [
            "[1 1 1]\n",
            "[0. 0. 0.]\n",
            "[4 4 4]\n",
            "[2.e-323 2.e-323 2.e-323]\n"
          ],
          "name": "stdout"
        }
      ]
    },
    {
      "cell_type": "code",
      "metadata": {
        "colab": {
          "base_uri": "https://localhost:8080/"
        },
        "id": "lttX8l_qDj2P",
        "outputId": "a0e288be-c235-4b2c-9d1b-7efbbcebb424"
      },
      "source": [
        "p=np.ones((2,3),dtype=int) \n",
        "q=np.zeros((3,4),dtype=int) \n",
        "r=np.full((3,4),5,dtype=float)\n",
        "print(p)\n",
        "print(q)\n",
        "print(r)"
      ],
      "execution_count": 27,
      "outputs": [
        {
          "output_type": "stream",
          "text": [
            "[[1 1 1]\n",
            " [1 1 1]]\n",
            "[[0 0 0 0]\n",
            " [0 0 0 0]\n",
            " [0 0 0 0]]\n",
            "[[5. 5. 5. 5.]\n",
            " [5. 5. 5. 5.]\n",
            " [5. 5. 5. 5.]]\n"
          ],
          "name": "stdout"
        }
      ]
    }
  ]
}