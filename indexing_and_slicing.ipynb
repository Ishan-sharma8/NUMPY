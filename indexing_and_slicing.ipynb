{
  "nbformat": 4,
  "nbformat_minor": 0,
  "metadata": {
    "colab": {
      "name": "indexing and slicing.ipynb",
      "provenance": [],
      "collapsed_sections": [],
      "authorship_tag": "ABX9TyN5aZGWi1pelW5Ed9kvEKcG",
      "include_colab_link": true
    },
    "kernelspec": {
      "name": "python3",
      "display_name": "Python 3"
    },
    "language_info": {
      "name": "python"
    }
  },
  "cells": [
    {
      "cell_type": "markdown",
      "metadata": {
        "id": "view-in-github",
        "colab_type": "text"
      },
      "source": [
        "<a href=\"https://colab.research.google.com/github/Ishan-sharma8/NUMPY/blob/main/indexing_and_slicing.ipynb\" target=\"_parent\"><img src=\"https://colab.research.google.com/assets/colab-badge.svg\" alt=\"Open In Colab\"/></a>"
      ]
    },
    {
      "cell_type": "code",
      "metadata": {
        "id": "Nau-T9YFt8R2"
      },
      "source": [
        "import numpy as np\n"
      ],
      "execution_count": 2,
      "outputs": []
    },
    {
      "cell_type": "code",
      "metadata": {
        "colab": {
          "base_uri": "https://localhost:8080/"
        },
        "id": "efcpqshYtYxT",
        "outputId": "74dc7ee3-dd5f-4692-bec2-b02df74d84f5"
      },
      "source": [
        "li=[1,2,3,4,5]\n",
        "ar=np.array(li)\n",
        "\n",
        "print(li)\n",
        "print(ar)"
      ],
      "execution_count": 3,
      "outputs": [
        {
          "output_type": "stream",
          "text": [
            "[1, 2, 3, 4, 5]\n",
            "[1 2 3 4 5]\n"
          ],
          "name": "stdout"
        }
      ]
    },
    {
      "cell_type": "code",
      "metadata": {
        "colab": {
          "base_uri": "https://localhost:8080/"
        },
        "id": "-xCOvwIUtupC",
        "outputId": "58ba3353-2fb3-4294-d802-d38d7cdcd826"
      },
      "source": [
        "print(ar.data)\n",
        "print(ar.shape)\n",
        "print(ar.dtype)\n",
        "print(ar.strides)"
      ],
      "execution_count": 4,
      "outputs": [
        {
          "output_type": "stream",
          "text": [
            "<memory at 0x7f9a9af31390>\n",
            "(5,)\n",
            "int64\n",
            "(8,)\n"
          ],
          "name": "stdout"
        }
      ]
    }
  ]
}