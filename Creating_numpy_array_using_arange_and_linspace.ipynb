{
  "nbformat": 4,
  "nbformat_minor": 0,
  "metadata": {
    "colab": {
      "name": "Creating numpy array using arange and linspace.ipynb",
      "provenance": [],
      "authorship_tag": "ABX9TyPLbvE2FiJA1jacDi8H7FGK",
      "include_colab_link": true
    },
    "kernelspec": {
      "name": "python3",
      "display_name": "Python 3"
    },
    "language_info": {
      "name": "python"
    }
  },
  "cells": [
    {
      "cell_type": "markdown",
      "metadata": {
        "id": "view-in-github",
        "colab_type": "text"
      },
      "source": [
        "<a href=\"https://colab.research.google.com/github/Ishan-sharma8/NUMPY/blob/main/Creating_numpy_array_using_arange_and_linspace.ipynb\" target=\"_parent\"><img src=\"https://colab.research.google.com/assets/colab-badge.svg\" alt=\"Open In Colab\"/></a>"
      ]
    },
    {
      "cell_type": "code",
      "metadata": {
        "id": "hqWodiB0L_hw"
      },
      "source": [
        "import numpy as np"
      ],
      "execution_count": 1,
      "outputs": []
    },
    {
      "cell_type": "code",
      "metadata": {
        "colab": {
          "base_uri": "https://localhost:8080/"
        },
        "id": "Nbg7Z_lmMGEg",
        "outputId": "63613b6f-f627-41cb-866c-7b99b421b8ff"
      },
      "source": [
        "b = np.arange(10)\n",
        "b"
      ],
      "execution_count": 2,
      "outputs": [
        {
          "output_type": "execute_result",
          "data": {
            "text/plain": [
              "array([0, 1, 2, 3, 4, 5, 6, 7, 8, 9])"
            ]
          },
          "metadata": {},
          "execution_count": 2
        }
      ]
    },
    {
      "cell_type": "code",
      "metadata": {
        "colab": {
          "base_uri": "https://localhost:8080/"
        },
        "id": "QCgqiIGZMKr7",
        "outputId": "455fd891-ee72-4af7-ee36-61995ad1717d"
      },
      "source": [
        "b = np.arange(2, 20, 2)\n",
        "b"
      ],
      "execution_count": 3,
      "outputs": [
        {
          "output_type": "execute_result",
          "data": {
            "text/plain": [
              "array([ 2,  4,  6,  8, 10, 12, 14, 16, 18])"
            ]
          },
          "metadata": {},
          "execution_count": 3
        }
      ]
    },
    {
      "cell_type": "code",
      "metadata": {
        "colab": {
          "base_uri": "https://localhost:8080/"
        },
        "id": "jdlPu4PQMPG0",
        "outputId": "ed453638-a1dd-41de-946f-0e81aecdbd13"
      },
      "source": [
        "b = np.linspace(2, 10)\n",
        "print(b[1] - b[0])\n",
        "print(b[3] - b[2])\n",
        "b"
      ],
      "execution_count": 5,
      "outputs": [
        {
          "output_type": "stream",
          "text": [
            "0.16326530612244916\n",
            "0.16326530612244916\n"
          ],
          "name": "stdout"
        },
        {
          "output_type": "execute_result",
          "data": {
            "text/plain": [
              "array([ 2.        ,  2.16326531,  2.32653061,  2.48979592,  2.65306122,\n",
              "        2.81632653,  2.97959184,  3.14285714,  3.30612245,  3.46938776,\n",
              "        3.63265306,  3.79591837,  3.95918367,  4.12244898,  4.28571429,\n",
              "        4.44897959,  4.6122449 ,  4.7755102 ,  4.93877551,  5.10204082,\n",
              "        5.26530612,  5.42857143,  5.59183673,  5.75510204,  5.91836735,\n",
              "        6.08163265,  6.24489796,  6.40816327,  6.57142857,  6.73469388,\n",
              "        6.89795918,  7.06122449,  7.2244898 ,  7.3877551 ,  7.55102041,\n",
              "        7.71428571,  7.87755102,  8.04081633,  8.20408163,  8.36734694,\n",
              "        8.53061224,  8.69387755,  8.85714286,  9.02040816,  9.18367347,\n",
              "        9.34693878,  9.51020408,  9.67346939,  9.83673469, 10.        ])"
            ]
          },
          "metadata": {},
          "execution_count": 5
        }
      ]
    },
    {
      "cell_type": "code",
      "metadata": {
        "colab": {
          "base_uri": "https://localhost:8080/"
        },
        "id": "O2_0jVv3MtpF",
        "outputId": "e1757607-ab29-464c-da4d-8e00240bd55b"
      },
      "source": [
        "b = np.linspace(2, 12, 5, dtype = int, endpoint = False)\n",
        "b"
      ],
      "execution_count": 8,
      "outputs": [
        {
          "output_type": "execute_result",
          "data": {
            "text/plain": [
              "array([ 2,  4,  6,  8, 10])"
            ]
          },
          "metadata": {},
          "execution_count": 8
        }
      ]
    },
    {
      "cell_type": "code",
      "metadata": {
        "colab": {
          "base_uri": "https://localhost:8080/"
        },
        "id": "qeBJeLUzNWru",
        "outputId": "665dcf28-6976-407c-935e-58187862e85a"
      },
      "source": [
        "c = np.identity(4)\n",
        "print(c)\n",
        "d = np.eye(3, 4)\n",
        "d"
      ],
      "execution_count": 11,
      "outputs": [
        {
          "output_type": "stream",
          "text": [
            "[[1. 0. 0. 0.]\n",
            " [0. 1. 0. 0.]\n",
            " [0. 0. 1. 0.]\n",
            " [0. 0. 0. 1.]]\n"
          ],
          "name": "stdout"
        },
        {
          "output_type": "execute_result",
          "data": {
            "text/plain": [
              "array([[1., 0., 0., 0.],\n",
              "       [0., 1., 0., 0.],\n",
              "       [0., 0., 1., 0.]])"
            ]
          },
          "metadata": {},
          "execution_count": 11
        }
      ]
    },
    {
      "cell_type": "code",
      "metadata": {
        "colab": {
          "base_uri": "https://localhost:8080/"
        },
        "id": "wbmEqknAO2PI",
        "outputId": "f4fed87f-58c1-47f5-cf85-cd0e04a04588"
      },
      "source": [
        "a = np.random.rand(4)\n",
        "a"
      ],
      "execution_count": 13,
      "outputs": [
        {
          "output_type": "execute_result",
          "data": {
            "text/plain": [
              "array([0.66829164, 0.19119769, 0.80465189, 0.07294728])"
            ]
          },
          "metadata": {},
          "execution_count": 13
        }
      ]
    },
    {
      "cell_type": "code",
      "metadata": {
        "colab": {
          "base_uri": "https://localhost:8080/"
        },
        "id": "hXtjSxWtO5Vm",
        "outputId": "176b2748-060c-4ebb-8736-498c1e30b87e"
      },
      "source": [
        "a = np.random.rand(10)*10\n",
        "a"
      ],
      "execution_count": 14,
      "outputs": [
        {
          "output_type": "execute_result",
          "data": {
            "text/plain": [
              "array([4.97635664, 9.08832566, 7.2310169 , 4.96797038, 9.51077898,\n",
              "       0.73940357, 7.12034373, 1.11819519, 9.2445988 , 2.21480426])"
            ]
          },
          "metadata": {},
          "execution_count": 14
        }
      ]
    },
    {
      "cell_type": "code",
      "metadata": {
        "colab": {
          "base_uri": "https://localhost:8080/"
        },
        "id": "M9cwM882O5YE",
        "outputId": "ba8b311f-0947-41f5-d017-0e8624531d22"
      },
      "source": [
        "a = np.random.rand(2, 3)\n",
        "a"
      ],
      "execution_count": 15,
      "outputs": [
        {
          "output_type": "execute_result",
          "data": {
            "text/plain": [
              "array([[0.12799476, 0.70458707, 0.50115977],\n",
              "       [0.55961048, 0.29576173, 0.12396264]])"
            ]
          },
          "metadata": {},
          "execution_count": 15
        }
      ]
    }
  ]
}