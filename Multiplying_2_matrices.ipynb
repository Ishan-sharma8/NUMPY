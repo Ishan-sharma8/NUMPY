{
  "nbformat": 4,
  "nbformat_minor": 0,
  "metadata": {
    "colab": {
      "name": "Multiplying 2 matrices.ipynb",
      "provenance": [],
      "collapsed_sections": [],
      "authorship_tag": "ABX9TyO+1S1+UKBabnEftpYeYrzp",
      "include_colab_link": true
    },
    "kernelspec": {
      "name": "python3",
      "display_name": "Python 3"
    },
    "language_info": {
      "name": "python"
    }
  },
  "cells": [
    {
      "cell_type": "markdown",
      "metadata": {
        "id": "view-in-github",
        "colab_type": "text"
      },
      "source": [
        "<a href=\"https://colab.research.google.com/github/Ishan-sharma8/NUMPY/blob/main/Multiplying_2_matrices.ipynb\" target=\"_parent\"><img src=\"https://colab.research.google.com/assets/colab-badge.svg\" alt=\"Open In Colab\"/></a>"
      ]
    },
    {
      "cell_type": "code",
      "metadata": {
        "colab": {
          "base_uri": "https://localhost:8080/"
        },
        "id": "LocKLmtkEGFY",
        "outputId": "fdcda948-8a94-4add-a6f6-b179b472d8c1"
      },
      "source": [
        "import numpy as np\n",
        "import time\n",
        "x=time.time()\n",
        "a=np.arange(16000000).reshape(4000,4000)\n",
        "b=np.arange(16000000).reshape(4000,4000)\n",
        "\n",
        "\n",
        "a @ b\n",
        "y=time.time()\n",
        "print(y-x)"
      ],
      "execution_count": 1,
      "outputs": [
        {
          "output_type": "stream",
          "text": [
            "178.05435824394226\n"
          ],
          "name": "stdout"
        }
      ]
    },
    {
      "cell_type": "code",
      "metadata": {
        "colab": {
          "base_uri": "https://localhost:8080/"
        },
        "id": "rqKQyoIWE6Ow",
        "outputId": "dfa99172-9ae8-4d8e-a282-efef398d4605"
      },
      "source": [
        "a @ b"
      ],
      "execution_count": 2,
      "outputs": [
        {
          "output_type": "execute_result",
          "data": {
            "text/plain": [
              "array([[    85301336000000,     85301343998000,     85301351996000, ...,\n",
              "            85333304006000,     85333312004000,     85333320002000],\n",
              "       [   213269336000000,    213269359998000,    213269383996000, ...,\n",
              "           213365256006000,    213365280004000,    213365304002000],\n",
              "       [   341237336000000,    341237375998000,    341237415996000, ...,\n",
              "           341397208006000,    341397248004000,    341397288002000],\n",
              "       ...,\n",
              "       [511573397336000000, 511573461295998000, 511573525255996000, ...,\n",
              "        511829045448006000, 511829109408004000, 511829173368002000],\n",
              "       [511701365336000000, 511701429311998000, 511701493287996000, ...,\n",
              "        511957077400006000, 511957141376004000, 511957205352002000],\n",
              "       [511829333336000000, 511829397327998000, 511829461319996000, ...,\n",
              "        512085109352006000, 512085173344004000, 512085237336002000]])"
            ]
          },
          "metadata": {
            "tags": []
          },
          "execution_count": 2
        }
      ]
    },
    {
      "cell_type": "code",
      "metadata": {
        "colab": {
          "base_uri": "https://localhost:8080/"
        },
        "id": "FJQzcfjFJsob",
        "outputId": "33e1c4e2-8f7e-4255-b1df-064c12c0c970"
      },
      "source": [
        ""
      ],
      "execution_count": null,
      "outputs": [
        {
          "output_type": "stream",
          "text": [
            "69.98520541191101\n"
          ],
          "name": "stdout"
        }
      ]
    }
  ]
}