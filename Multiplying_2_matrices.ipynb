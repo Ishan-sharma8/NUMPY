{
  "nbformat": 4,
  "nbformat_minor": 0,
  "metadata": {
    "colab": {
      "name": "Multiplying 2 matrices.ipynb",
      "provenance": [],
      "collapsed_sections": [],
      "authorship_tag": "ABX9TyNN2AoaJ3kP6YGaWq6UGRac",
      "include_colab_link": true
    },
    "kernelspec": {
      "name": "python3",
      "display_name": "Python 3"
    },
    "language_info": {
      "name": "python"
    }
  },
  "cells": [
    {
      "cell_type": "markdown",
      "metadata": {
        "id": "view-in-github",
        "colab_type": "text"
      },
      "source": [
        "<a href=\"https://colab.research.google.com/github/Ishan-sharma8/NUMPY/blob/main/Multiplying_2_matrices.ipynb\" target=\"_parent\"><img src=\"https://colab.research.google.com/assets/colab-badge.svg\" alt=\"Open In Colab\"/></a>"
      ]
    },
    {
      "cell_type": "code",
      "metadata": {
        "colab": {
          "base_uri": "https://localhost:8080/"
        },
        "id": "LocKLmtkEGFY",
        "outputId": "98a8b35a-e1cf-4525-879e-9a9499e2cefb"
      },
      "source": [
        "import numpy as np\n",
        "import time\n",
        "x=time.time()\n",
        "a=np.arange(16000000).reshape(4000,4000)\n",
        "b=np.arange(16000000).reshape(4000,4000)\n",
        "\n",
        "\n",
        "a @ b\n",
        "y=time.time()\n",
        "print(y-x)"
      ],
      "execution_count": 8,
      "outputs": [
        {
          "output_type": "stream",
          "text": [
            "255.83074569702148\n"
          ],
          "name": "stdout"
        }
      ]
    },
    {
      "cell_type": "code",
      "metadata": {
        "colab": {
          "base_uri": "https://localhost:8080/"
        },
        "id": "rqKQyoIWE6Ow",
        "outputId": "6b0a7f7a-2184-46d9-dbbb-ffaca773ec33"
      },
      "source": [
        "a @ b"
      ],
      "execution_count": 9,
      "outputs": [
        {
          "output_type": "execute_result",
          "data": {
            "text/plain": [
              "array([[    85301336000000,     85301343998000,     85301351996000, ...,\n",
              "            85333304006000,     85333312004000,     85333320002000],\n",
              "       [   213269336000000,    213269359998000,    213269383996000, ...,\n",
              "           213365256006000,    213365280004000,    213365304002000],\n",
              "       [   341237336000000,    341237375998000,    341237415996000, ...,\n",
              "           341397208006000,    341397248004000,    341397288002000],\n",
              "       ...,\n",
              "       [511573397336000000, 511573461295998000, 511573525255996000, ...,\n",
              "        511829045448006000, 511829109408004000, 511829173368002000],\n",
              "       [511701365336000000, 511701429311998000, 511701493287996000, ...,\n",
              "        511957077400006000, 511957141376004000, 511957205352002000],\n",
              "       [511829333336000000, 511829397327998000, 511829461319996000, ...,\n",
              "        512085109352006000, 512085173344004000, 512085237336002000]])"
            ]
          },
          "metadata": {
            "tags": []
          },
          "execution_count": 9
        }
      ]
    },
    {
      "cell_type": "code",
      "metadata": {
        "colab": {
          "base_uri": "https://localhost:8080/"
        },
        "id": "xxG9jA4zJakM",
        "outputId": "c7ebfe47-e3fb-4c0c-d412-ae81a46b1e7a"
      },
      "source": [
        "!find / -iname 'libdevice'\n",
        "!find / -iname 'libnvvm.so'"
      ],
      "execution_count": 2,
      "outputs": [
        {
          "output_type": "stream",
          "text": [
            "/usr/local/lib/python3.7/dist-packages/jaxlib/cuda/nvvm/libdevice\n",
            "/usr/local/cuda-10.0/nvvm/libdevice\n",
            "/usr/local/cuda-11.0/nvvm/libdevice\n",
            "/usr/local/cuda-10.1/nvvm/libdevice\n",
            "/usr/local/cuda-10.0/nvvm/lib64/libnvvm.so\n",
            "/usr/local/cuda-11.0/nvvm/lib64/libnvvm.so\n",
            "/usr/local/cuda-10.1/nvvm/lib64/libnvvm.so\n"
          ],
          "name": "stdout"
        }
      ]
    },
    {
      "cell_type": "code",
      "metadata": {
        "colab": {
          "base_uri": "https://localhost:8080/"
        },
        "id": "FJQzcfjFJsob",
        "outputId": "33e1c4e2-8f7e-4255-b1df-064c12c0c970"
      },
      "source": [
        "import os\n",
        "os.environ['NUMBAPRO_LIBDEVICE'] = \"/usr/local/cuda-10.0/nvvm/libdevice\"\n",
        "os.environ['NUMBAPRO_NVVM'] = \"/usr/local/cuda-10.0/nvvm/lib64/libnvvm.so\"\n",
        "import numpy as np\n",
        "import time\n",
        "x=time.time()\n",
        "a=np.arange(9000000).reshape(3000,3000)\n",
        "b=np.arange(9000000).reshape(3000,3000)\n",
        "\n",
        "\n",
        "#%timeit \n",
        "a @ b\n",
        "y=time.time()\n",
        "print(y-x)"
      ],
      "execution_count": 6,
      "outputs": [
        {
          "output_type": "stream",
          "text": [
            "69.98520541191101\n"
          ],
          "name": "stdout"
        }
      ]
    },
    {
      "cell_type": "code",
      "metadata": {
        "colab": {
          "base_uri": "https://localhost:8080/"
        },
        "id": "MKAPI36i9GNI",
        "outputId": "39b0ebc8-0417-4607-d4d7-e5b086006619"
      },
      "source": [
        "a @ b"
      ],
      "execution_count": 5,
      "outputs": [
        {
          "output_type": "execute_result",
          "data": {
            "text/plain": [
              "array([[   332833500000,    332833999500,    332834499000, ...,\n",
              "           333331501500,    333332001000,    333332500500],\n",
              "       [   832333500000,    832334999500,    832336499000, ...,\n",
              "           833828501500,    833830001000,    833831500500],\n",
              "       [  1331833500000,   1331835999500,   1331838499000, ...,\n",
              "          1334325501500,   1334328001000,   1334330500500],\n",
              "       ...,\n",
              "       [498334333500000, 498335330999500, 498336328499000, ...,\n",
              "        499328840501500, 499329838001000, 499330835500500],\n",
              "       [498833833500000, 498834831999500, 498835830499000, ...,\n",
              "        499829337501500, 499830336001000, 499831334500500],\n",
              "       [499333333500000, 499334332999500, 499335332499000, ...,\n",
              "        500329834501500, 500330834001000, 500331833500500]])"
            ]
          },
          "metadata": {
            "tags": []
          },
          "execution_count": 5
        }
      ]
    }
  ]
}